{
 "cells": [
  {
   "cell_type": "code",
   "execution_count": 5,
   "metadata": {
    "scrolled": true
   },
   "outputs": [
    {
     "data": {
      "text/plain": [
       "[(0, 1, 0),\n",
       " (0, 2, 4),\n",
       " (0, 3, 8),\n",
       " (0, 5, 2),\n",
       " (1, 3, 6),\n",
       " (1, 4, 4),\n",
       " (1, 6, 6),\n",
       " (2, 3, 2),\n",
       " (2, 5, 8),\n",
       " (3, 4, 4),\n",
       " (3, 5, 7),\n",
       " (3, 6, 3),\n",
       " (4, 6, 1),\n",
       " (5, 6, 1),\n",
       " (5, 7, 4),\n",
       " (6, 7, 3),\n",
       " (7, 8, 5),\n",
       " (8, 9, 9)]"
      ]
     },
     "execution_count": 5,
     "metadata": {},
     "output_type": "execute_result"
    }
   ],
   "source": [
    "import networkx.generators.small\n",
    "from networkx import algorithms\n",
    "import itertools\n",
    "from random import choice\n",
    "\n",
    "g = networkx.generators.small.krackhardt_kite_graph()\n",
    "nn = g.nodes()\n",
    "\n",
    "new_edges = [x + (choice(range(10)),) for x in g.edges()]\n",
    "new_edges"
   ]
  },
  {
   "cell_type": "code",
   "execution_count": 6,
   "metadata": {},
   "outputs": [
    {
     "data": {
      "text/plain": [
       "[0, 1, 2, 3, 5, 4, 6, 7, 8, 9]"
      ]
     },
     "execution_count": 6,
     "metadata": {},
     "output_type": "execute_result"
    }
   ],
   "source": [
    "g.clear()\n",
    "g.add_weighted_edges_from(new_edges)\n",
    "list(g)"
   ]
  },
  {
   "cell_type": "code",
   "execution_count": 7,
   "metadata": {},
   "outputs": [
    {
     "name": "stdout",
     "output_type": "stream",
     "text": [
      "[0, 1] [0, 1]\n",
      "[0, 2] [0, 2]\n",
      "[0, 3] [0, 1, 3]\n",
      "[0, 5] [0, 5]\n",
      "[0, 1, 4] [0, 1, 4]\n",
      "[0, 1, 6] [0, 5, 6]\n",
      "[0, 5, 7] [0, 5, 7]\n",
      "[1, 0, 2] [1, 0, 2]\n",
      "[1, 3] [1, 3]\n",
      "[1, 0, 5] [1, 0, 5]\n",
      "[1, 4] [1, 4]\n",
      "[1, 6] [1, 0, 5, 6]\n",
      "[1, 6, 7] [1, 0, 5, 7]\n",
      "[2, 3] [2, 3]\n",
      "[2, 5] [2, 0, 5]\n",
      "[2, 3, 4] [2, 3, 4]\n",
      "[2, 3, 6] [2, 3, 6]\n",
      "[2, 5, 7] [2, 3, 6, 7]\n",
      "[3, 5] [3, 6, 5]\n",
      "[3, 4] [3, 4]\n",
      "[3, 6] [3, 6]\n",
      "[3, 5, 7] [3, 6, 7]\n",
      "[5, 3, 4] [5, 6, 4]\n",
      "[5, 6] [5, 6]\n",
      "[5, 7] [5, 7]\n",
      "[4, 6] [4, 6]\n",
      "[4, 6, 7] [4, 6, 7]\n",
      "[6, 7] [6, 7]\n"
     ]
    }
   ],
   "source": [
    "for pair in itertools.combinations(list(nn)[:8], 2):\n",
    "    print(algorithms.shortest_path(g, *pair), algorithms.dijkstra_path(g, *pair))"
   ]
  }
 ],
 "metadata": {
  "kernelspec": {
   "display_name": "Python 3",
   "language": "python",
   "name": "python3"
  },
  "language_info": {
   "codemirror_mode": {
    "name": "ipython",
    "version": 3
   },
   "file_extension": ".py",
   "mimetype": "text/x-python",
   "name": "python",
   "nbconvert_exporter": "python",
   "pygments_lexer": "ipython3",
   "version": "3.6.7"
  }
 },
 "nbformat": 4,
 "nbformat_minor": 2
}
