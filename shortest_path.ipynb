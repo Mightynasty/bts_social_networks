{
 "cells": [
  {
   "cell_type": "code",
   "execution_count": 1,
   "metadata": {},
   "outputs": [
    {
     "data": {
      "text/plain": [
       "[0, 5]"
      ]
     },
     "execution_count": 1,
     "metadata": {},
     "output_type": "execute_result"
    }
   ],
   "source": [
    "import networkx.generators.small\n",
    "from networkx.algorithms import traversal\n",
    "from networkx import algorithms\n",
    "\n",
    "g = networkx.generators.small.krackhardt_kite_graph()\n",
    "\n",
    "algorithms.shortest_path(g,0,5)"
   ]
  },
  {
   "cell_type": "code",
   "execution_count": 2,
   "metadata": {},
   "outputs": [
    {
     "data": {
      "text/plain": [
       "[0, 5, 7]"
      ]
     },
     "execution_count": 2,
     "metadata": {},
     "output_type": "execute_result"
    }
   ],
   "source": [
    "algorithms.shortest_path(g,0,7)"
   ]
  },
  {
   "cell_type": "code",
   "execution_count": 3,
   "metadata": {},
   "outputs": [
    {
     "data": {
      "text/plain": [
       "1.9777777777777779"
      ]
     },
     "execution_count": 3,
     "metadata": {},
     "output_type": "execute_result"
    }
   ],
   "source": [
    "algorithms.average_shortest_path_length(g)"
   ]
  },
  {
   "cell_type": "code",
   "execution_count": 4,
   "metadata": {},
   "outputs": [
    {
     "data": {
      "text/plain": [
       "[(0,\n",
       "  {0: [0],\n",
       "   1: [0, 1],\n",
       "   2: [0, 2],\n",
       "   3: [0, 3],\n",
       "   5: [0, 5],\n",
       "   4: [0, 1, 4],\n",
       "   6: [0, 1, 6],\n",
       "   7: [0, 5, 7],\n",
       "   8: [0, 5, 7, 8],\n",
       "   9: [0, 5, 7, 8, 9]}),\n",
       " (1,\n",
       "  {1: [1],\n",
       "   0: [1, 0],\n",
       "   3: [1, 3],\n",
       "   4: [1, 4],\n",
       "   6: [1, 6],\n",
       "   2: [1, 0, 2],\n",
       "   5: [1, 0, 5],\n",
       "   7: [1, 6, 7],\n",
       "   8: [1, 6, 7, 8],\n",
       "   9: [1, 6, 7, 8, 9]}),\n",
       " (2,\n",
       "  {2: [2],\n",
       "   0: [2, 0],\n",
       "   3: [2, 3],\n",
       "   5: [2, 5],\n",
       "   1: [2, 0, 1],\n",
       "   4: [2, 3, 4],\n",
       "   6: [2, 3, 6],\n",
       "   7: [2, 5, 7],\n",
       "   8: [2, 5, 7, 8],\n",
       "   9: [2, 5, 7, 8, 9]}),\n",
       " (3,\n",
       "  {3: [3],\n",
       "   0: [3, 0],\n",
       "   1: [3, 1],\n",
       "   2: [3, 2],\n",
       "   4: [3, 4],\n",
       "   5: [3, 5],\n",
       "   6: [3, 6],\n",
       "   7: [3, 5, 7],\n",
       "   8: [3, 5, 7, 8],\n",
       "   9: [3, 5, 7, 8, 9]}),\n",
       " (4,\n",
       "  {4: [4],\n",
       "   1: [4, 1],\n",
       "   3: [4, 3],\n",
       "   6: [4, 6],\n",
       "   0: [4, 1, 0],\n",
       "   2: [4, 3, 2],\n",
       "   5: [4, 3, 5],\n",
       "   7: [4, 6, 7],\n",
       "   8: [4, 6, 7, 8],\n",
       "   9: [4, 6, 7, 8, 9]}),\n",
       " (5,\n",
       "  {5: [5],\n",
       "   0: [5, 0],\n",
       "   2: [5, 2],\n",
       "   3: [5, 3],\n",
       "   6: [5, 6],\n",
       "   7: [5, 7],\n",
       "   1: [5, 0, 1],\n",
       "   4: [5, 3, 4],\n",
       "   8: [5, 7, 8],\n",
       "   9: [5, 7, 8, 9]}),\n",
       " (6,\n",
       "  {6: [6],\n",
       "   1: [6, 1],\n",
       "   3: [6, 3],\n",
       "   4: [6, 4],\n",
       "   5: [6, 5],\n",
       "   7: [6, 7],\n",
       "   0: [6, 1, 0],\n",
       "   2: [6, 3, 2],\n",
       "   8: [6, 7, 8],\n",
       "   9: [6, 7, 8, 9]}),\n",
       " (7,\n",
       "  {7: [7],\n",
       "   5: [7, 5],\n",
       "   6: [7, 6],\n",
       "   8: [7, 8],\n",
       "   0: [7, 5, 0],\n",
       "   2: [7, 5, 2],\n",
       "   3: [7, 5, 3],\n",
       "   1: [7, 6, 1],\n",
       "   4: [7, 6, 4],\n",
       "   9: [7, 8, 9]}),\n",
       " (8,\n",
       "  {8: [8],\n",
       "   7: [8, 7],\n",
       "   9: [8, 9],\n",
       "   5: [8, 7, 5],\n",
       "   6: [8, 7, 6],\n",
       "   0: [8, 7, 5, 0],\n",
       "   2: [8, 7, 5, 2],\n",
       "   3: [8, 7, 5, 3],\n",
       "   1: [8, 7, 6, 1],\n",
       "   4: [8, 7, 6, 4]}),\n",
       " (9,\n",
       "  {9: [9],\n",
       "   8: [9, 8],\n",
       "   7: [9, 8, 7],\n",
       "   5: [9, 8, 7, 5],\n",
       "   6: [9, 8, 7, 6],\n",
       "   0: [9, 8, 7, 5, 0],\n",
       "   2: [9, 8, 7, 5, 2],\n",
       "   3: [9, 8, 7, 5, 3],\n",
       "   1: [9, 8, 7, 6, 1],\n",
       "   4: [9, 8, 7, 6, 4]})]"
      ]
     },
     "execution_count": 4,
     "metadata": {},
     "output_type": "execute_result"
    }
   ],
   "source": [
    "list(algorithms.all_pairs_shortest_path(g))"
   ]
  },
  {
   "cell_type": "code",
   "execution_count": 5,
   "metadata": {},
   "outputs": [
    {
     "data": {
      "text/plain": [
       "(5,\n",
       " {5: [5],\n",
       "  0: [5, 0],\n",
       "  2: [5, 2],\n",
       "  3: [5, 3],\n",
       "  6: [5, 6],\n",
       "  7: [5, 7],\n",
       "  1: [5, 0, 1],\n",
       "  4: [5, 3, 4],\n",
       "  8: [5, 7, 8],\n",
       "  9: [5, 7, 8, 9]})"
      ]
     },
     "execution_count": 5,
     "metadata": {},
     "output_type": "execute_result"
    }
   ],
   "source": [
    "list(algorithms.all_pairs_shortest_path(g))[5]"
   ]
  },
  {
   "cell_type": "code",
   "execution_count": null,
   "metadata": {},
   "outputs": [],
   "source": []
  }
 ],
 "metadata": {
  "kernelspec": {
   "display_name": "Python 3",
   "language": "python",
   "name": "python3"
  },
  "language_info": {
   "codemirror_mode": {
    "name": "ipython",
    "version": 3
   },
   "file_extension": ".py",
   "mimetype": "text/x-python",
   "name": "python",
   "nbconvert_exporter": "python",
   "pygments_lexer": "ipython3",
   "version": "3.6.7"
  }
 },
 "nbformat": 4,
 "nbformat_minor": 2
}
